{
 "cells": [
  {
   "cell_type": "code",
   "execution_count": 1,
   "metadata": {},
   "outputs": [],
   "source": [
    "import numpy as np\n",
    "import pandas as pd\n",
    "import seaborn as sns\n",
    "import matplotlib.pyplot as plt\n",
    "%matplotlib inline\n",
    "pd.set_option('display.max_columns',None)\n",
    "pd.set_option('display.max_rows',None)"
   ]
  },
  {
   "cell_type": "code",
   "execution_count": 2,
   "metadata": {},
   "outputs": [
    {
     "data": {
      "text/html": [
       "<div>\n",
       "<style scoped>\n",
       "    .dataframe tbody tr th:only-of-type {\n",
       "        vertical-align: middle;\n",
       "    }\n",
       "\n",
       "    .dataframe tbody tr th {\n",
       "        vertical-align: top;\n",
       "    }\n",
       "\n",
       "    .dataframe thead th {\n",
       "        text-align: right;\n",
       "    }\n",
       "</style>\n",
       "<table border=\"1\" class=\"dataframe\">\n",
       "  <thead>\n",
       "    <tr style=\"text-align: right;\">\n",
       "      <th></th>\n",
       "      <th>Class</th>\n",
       "      <th>User</th>\n",
       "      <th>X0</th>\n",
       "      <th>Y0</th>\n",
       "      <th>Z0</th>\n",
       "      <th>X1</th>\n",
       "      <th>Y1</th>\n",
       "      <th>Z1</th>\n",
       "      <th>X2</th>\n",
       "      <th>Y2</th>\n",
       "      <th>Z2</th>\n",
       "      <th>X3</th>\n",
       "      <th>Y3</th>\n",
       "      <th>Z3</th>\n",
       "      <th>X4</th>\n",
       "      <th>Y4</th>\n",
       "      <th>Z4</th>\n",
       "      <th>X5</th>\n",
       "      <th>Y5</th>\n",
       "      <th>Z5</th>\n",
       "      <th>X6</th>\n",
       "      <th>Y6</th>\n",
       "      <th>Z6</th>\n",
       "      <th>X7</th>\n",
       "      <th>Y7</th>\n",
       "      <th>Z7</th>\n",
       "      <th>X8</th>\n",
       "      <th>Y8</th>\n",
       "      <th>Z8</th>\n",
       "      <th>X9</th>\n",
       "      <th>Y9</th>\n",
       "      <th>Z9</th>\n",
       "      <th>X10</th>\n",
       "      <th>Y10</th>\n",
       "      <th>Z10</th>\n",
       "    </tr>\n",
       "  </thead>\n",
       "  <tbody>\n",
       "    <tr>\n",
       "      <th>0</th>\n",
       "      <td>1</td>\n",
       "      <td>0</td>\n",
       "      <td>54.263880</td>\n",
       "      <td>71.466776</td>\n",
       "      <td>-64.807709</td>\n",
       "      <td>76.895635</td>\n",
       "      <td>42.46250</td>\n",
       "      <td>-72.780545</td>\n",
       "      <td>36.621229</td>\n",
       "      <td>81.680557</td>\n",
       "      <td>-52.919272</td>\n",
       "      <td>85.232264</td>\n",
       "      <td>67.749220</td>\n",
       "      <td>-73.684130</td>\n",
       "      <td>59.188576</td>\n",
       "      <td>10.678936</td>\n",
       "      <td>-71.297781</td>\n",
       "      <td>86.807789</td>\n",
       "      <td>72.701233</td>\n",
       "      <td>-71.373391</td>\n",
       "      <td>0.0</td>\n",
       "      <td>0.0</td>\n",
       "      <td>0.0</td>\n",
       "      <td>0.0</td>\n",
       "      <td>0.0</td>\n",
       "      <td>0.0</td>\n",
       "      <td>0.0</td>\n",
       "      <td>0.0</td>\n",
       "      <td>0.0</td>\n",
       "      <td>0.0</td>\n",
       "      <td>0.0</td>\n",
       "      <td>0.0</td>\n",
       "      <td>0.0</td>\n",
       "      <td>0.0</td>\n",
       "      <td>0.0</td>\n",
       "    </tr>\n",
       "    <tr>\n",
       "      <th>1</th>\n",
       "      <td>1</td>\n",
       "      <td>0</td>\n",
       "      <td>56.527558</td>\n",
       "      <td>72.266609</td>\n",
       "      <td>-61.935252</td>\n",
       "      <td>39.135978</td>\n",
       "      <td>82.53853</td>\n",
       "      <td>-49.596509</td>\n",
       "      <td>79.223743</td>\n",
       "      <td>43.254091</td>\n",
       "      <td>-69.982489</td>\n",
       "      <td>87.450873</td>\n",
       "      <td>68.400808</td>\n",
       "      <td>-70.703991</td>\n",
       "      <td>61.587452</td>\n",
       "      <td>11.779919</td>\n",
       "      <td>-68.827418</td>\n",
       "      <td>86.807789</td>\n",
       "      <td>72.701233</td>\n",
       "      <td>-71.373391</td>\n",
       "      <td>0.0</td>\n",
       "      <td>0.0</td>\n",
       "      <td>0.0</td>\n",
       "      <td>0.0</td>\n",
       "      <td>0.0</td>\n",
       "      <td>0.0</td>\n",
       "      <td>0.0</td>\n",
       "      <td>0.0</td>\n",
       "      <td>0.0</td>\n",
       "      <td>0.0</td>\n",
       "      <td>0.0</td>\n",
       "      <td>0.0</td>\n",
       "      <td>0.0</td>\n",
       "      <td>0.0</td>\n",
       "      <td>0.0</td>\n",
       "    </tr>\n",
       "  </tbody>\n",
       "</table>\n",
       "</div>"
      ],
      "text/plain": [
       "   Class  User         X0         Y0         Z0         X1        Y1  \\\n",
       "0      1     0  54.263880  71.466776 -64.807709  76.895635  42.46250   \n",
       "1      1     0  56.527558  72.266609 -61.935252  39.135978  82.53853   \n",
       "\n",
       "          Z1         X2         Y2         Z2         X3         Y3  \\\n",
       "0 -72.780545  36.621229  81.680557 -52.919272  85.232264  67.749220   \n",
       "1 -49.596509  79.223743  43.254091 -69.982489  87.450873  68.400808   \n",
       "\n",
       "          Z3         X4         Y4         Z4         X5         Y5  \\\n",
       "0 -73.684130  59.188576  10.678936 -71.297781  86.807789  72.701233   \n",
       "1 -70.703991  61.587452  11.779919 -68.827418  86.807789  72.701233   \n",
       "\n",
       "          Z5   X6   Y6   Z6   X7   Y7   Z7   X8   Y8   Z8   X9   Y9   Z9  X10  \\\n",
       "0 -71.373391  0.0  0.0  0.0  0.0  0.0  0.0  0.0  0.0  0.0  0.0  0.0  0.0  0.0   \n",
       "1 -71.373391  0.0  0.0  0.0  0.0  0.0  0.0  0.0  0.0  0.0  0.0  0.0  0.0  0.0   \n",
       "\n",
       "   Y10  Z10  \n",
       "0  0.0  0.0  \n",
       "1  0.0  0.0  "
      ]
     },
     "execution_count": 2,
     "metadata": {},
     "output_type": "execute_result"
    }
   ],
   "source": [
    "df=pd.read_csv(\"C:\\\\Users\\\\Yuvaraj_Subramanian\\\\Downloads\\\\Projects\\\\Motion Capture Hand Posture\\\\UpdatedPostures.csv\")\n",
    "df.head(2)"
   ]
  },
  {
   "cell_type": "code",
   "execution_count": 3,
   "metadata": {},
   "outputs": [],
   "source": [
    "df.drop('User',axis=1,inplace=True)"
   ]
  },
  {
   "cell_type": "code",
   "execution_count": 4,
   "metadata": {},
   "outputs": [
    {
     "data": {
      "text/html": [
       "<div>\n",
       "<style scoped>\n",
       "    .dataframe tbody tr th:only-of-type {\n",
       "        vertical-align: middle;\n",
       "    }\n",
       "\n",
       "    .dataframe tbody tr th {\n",
       "        vertical-align: top;\n",
       "    }\n",
       "\n",
       "    .dataframe thead th {\n",
       "        text-align: right;\n",
       "    }\n",
       "</style>\n",
       "<table border=\"1\" class=\"dataframe\">\n",
       "  <thead>\n",
       "    <tr style=\"text-align: right;\">\n",
       "      <th></th>\n",
       "      <th>Class</th>\n",
       "      <th>X0</th>\n",
       "      <th>Y0</th>\n",
       "      <th>Z0</th>\n",
       "      <th>X1</th>\n",
       "      <th>Y1</th>\n",
       "      <th>Z1</th>\n",
       "      <th>X2</th>\n",
       "      <th>Y2</th>\n",
       "      <th>Z2</th>\n",
       "      <th>X3</th>\n",
       "      <th>Y3</th>\n",
       "      <th>Z3</th>\n",
       "      <th>X4</th>\n",
       "      <th>Y4</th>\n",
       "      <th>Z4</th>\n",
       "      <th>X5</th>\n",
       "      <th>Y5</th>\n",
       "      <th>Z5</th>\n",
       "      <th>X6</th>\n",
       "      <th>Y6</th>\n",
       "      <th>Z6</th>\n",
       "      <th>X7</th>\n",
       "      <th>Y7</th>\n",
       "      <th>Z7</th>\n",
       "      <th>X8</th>\n",
       "      <th>Y8</th>\n",
       "      <th>Z8</th>\n",
       "      <th>X9</th>\n",
       "      <th>Y9</th>\n",
       "      <th>Z9</th>\n",
       "      <th>X10</th>\n",
       "      <th>Y10</th>\n",
       "      <th>Z10</th>\n",
       "    </tr>\n",
       "  </thead>\n",
       "  <tbody>\n",
       "    <tr>\n",
       "      <th>0</th>\n",
       "      <td>1</td>\n",
       "      <td>54.263880</td>\n",
       "      <td>71.466776</td>\n",
       "      <td>-64.807709</td>\n",
       "      <td>76.895635</td>\n",
       "      <td>42.46250</td>\n",
       "      <td>-72.780545</td>\n",
       "      <td>36.621229</td>\n",
       "      <td>81.680557</td>\n",
       "      <td>-52.919272</td>\n",
       "      <td>85.232264</td>\n",
       "      <td>67.749220</td>\n",
       "      <td>-73.684130</td>\n",
       "      <td>59.188576</td>\n",
       "      <td>10.678936</td>\n",
       "      <td>-71.297781</td>\n",
       "      <td>86.807789</td>\n",
       "      <td>72.701233</td>\n",
       "      <td>-71.373391</td>\n",
       "      <td>0.0</td>\n",
       "      <td>0.0</td>\n",
       "      <td>0.0</td>\n",
       "      <td>0.0</td>\n",
       "      <td>0.0</td>\n",
       "      <td>0.0</td>\n",
       "      <td>0.0</td>\n",
       "      <td>0.0</td>\n",
       "      <td>0.0</td>\n",
       "      <td>0.0</td>\n",
       "      <td>0.0</td>\n",
       "      <td>0.0</td>\n",
       "      <td>0.0</td>\n",
       "      <td>0.0</td>\n",
       "      <td>0.0</td>\n",
       "    </tr>\n",
       "    <tr>\n",
       "      <th>1</th>\n",
       "      <td>1</td>\n",
       "      <td>56.527558</td>\n",
       "      <td>72.266609</td>\n",
       "      <td>-61.935252</td>\n",
       "      <td>39.135978</td>\n",
       "      <td>82.53853</td>\n",
       "      <td>-49.596509</td>\n",
       "      <td>79.223743</td>\n",
       "      <td>43.254091</td>\n",
       "      <td>-69.982489</td>\n",
       "      <td>87.450873</td>\n",
       "      <td>68.400808</td>\n",
       "      <td>-70.703991</td>\n",
       "      <td>61.587452</td>\n",
       "      <td>11.779919</td>\n",
       "      <td>-68.827418</td>\n",
       "      <td>86.807789</td>\n",
       "      <td>72.701233</td>\n",
       "      <td>-71.373391</td>\n",
       "      <td>0.0</td>\n",
       "      <td>0.0</td>\n",
       "      <td>0.0</td>\n",
       "      <td>0.0</td>\n",
       "      <td>0.0</td>\n",
       "      <td>0.0</td>\n",
       "      <td>0.0</td>\n",
       "      <td>0.0</td>\n",
       "      <td>0.0</td>\n",
       "      <td>0.0</td>\n",
       "      <td>0.0</td>\n",
       "      <td>0.0</td>\n",
       "      <td>0.0</td>\n",
       "      <td>0.0</td>\n",
       "      <td>0.0</td>\n",
       "    </tr>\n",
       "  </tbody>\n",
       "</table>\n",
       "</div>"
      ],
      "text/plain": [
       "   Class         X0         Y0         Z0         X1        Y1         Z1  \\\n",
       "0      1  54.263880  71.466776 -64.807709  76.895635  42.46250 -72.780545   \n",
       "1      1  56.527558  72.266609 -61.935252  39.135978  82.53853 -49.596509   \n",
       "\n",
       "          X2         Y2         Z2         X3         Y3         Z3  \\\n",
       "0  36.621229  81.680557 -52.919272  85.232264  67.749220 -73.684130   \n",
       "1  79.223743  43.254091 -69.982489  87.450873  68.400808 -70.703991   \n",
       "\n",
       "          X4         Y4         Z4         X5         Y5         Z5   X6   Y6  \\\n",
       "0  59.188576  10.678936 -71.297781  86.807789  72.701233 -71.373391  0.0  0.0   \n",
       "1  61.587452  11.779919 -68.827418  86.807789  72.701233 -71.373391  0.0  0.0   \n",
       "\n",
       "    Z6   X7   Y7   Z7   X8   Y8   Z8   X9   Y9   Z9  X10  Y10  Z10  \n",
       "0  0.0  0.0  0.0  0.0  0.0  0.0  0.0  0.0  0.0  0.0  0.0  0.0  0.0  \n",
       "1  0.0  0.0  0.0  0.0  0.0  0.0  0.0  0.0  0.0  0.0  0.0  0.0  0.0  "
      ]
     },
     "execution_count": 4,
     "metadata": {},
     "output_type": "execute_result"
    }
   ],
   "source": [
    "df.head(2)"
   ]
  },
  {
   "cell_type": "markdown",
   "metadata": {},
   "source": [
    "#### Using the columns that have atleast more than 50% data which is done as a part of feature selection"
   ]
  },
  {
   "cell_type": "code",
   "execution_count": 7,
   "metadata": {},
   "outputs": [],
   "source": [
    "dfn=df.iloc[:,0:25]"
   ]
  },
  {
   "cell_type": "code",
   "execution_count": 8,
   "metadata": {},
   "outputs": [
    {
     "data": {
      "text/html": [
       "<div>\n",
       "<style scoped>\n",
       "    .dataframe tbody tr th:only-of-type {\n",
       "        vertical-align: middle;\n",
       "    }\n",
       "\n",
       "    .dataframe tbody tr th {\n",
       "        vertical-align: top;\n",
       "    }\n",
       "\n",
       "    .dataframe thead th {\n",
       "        text-align: right;\n",
       "    }\n",
       "</style>\n",
       "<table border=\"1\" class=\"dataframe\">\n",
       "  <thead>\n",
       "    <tr style=\"text-align: right;\">\n",
       "      <th></th>\n",
       "      <th>Class</th>\n",
       "      <th>X0</th>\n",
       "      <th>Y0</th>\n",
       "      <th>Z0</th>\n",
       "      <th>X1</th>\n",
       "      <th>Y1</th>\n",
       "      <th>Z1</th>\n",
       "      <th>X2</th>\n",
       "      <th>Y2</th>\n",
       "      <th>Z2</th>\n",
       "      <th>X3</th>\n",
       "      <th>Y3</th>\n",
       "      <th>Z3</th>\n",
       "      <th>X4</th>\n",
       "      <th>Y4</th>\n",
       "      <th>Z4</th>\n",
       "      <th>X5</th>\n",
       "      <th>Y5</th>\n",
       "      <th>Z5</th>\n",
       "      <th>X6</th>\n",
       "      <th>Y6</th>\n",
       "      <th>Z6</th>\n",
       "      <th>X7</th>\n",
       "      <th>Y7</th>\n",
       "      <th>Z7</th>\n",
       "    </tr>\n",
       "  </thead>\n",
       "  <tbody>\n",
       "    <tr>\n",
       "      <th>0</th>\n",
       "      <td>1</td>\n",
       "      <td>54.263880</td>\n",
       "      <td>71.466776</td>\n",
       "      <td>-64.807709</td>\n",
       "      <td>76.895635</td>\n",
       "      <td>42.46250</td>\n",
       "      <td>-72.780545</td>\n",
       "      <td>36.621229</td>\n",
       "      <td>81.680557</td>\n",
       "      <td>-52.919272</td>\n",
       "      <td>85.232264</td>\n",
       "      <td>67.749220</td>\n",
       "      <td>-73.684130</td>\n",
       "      <td>59.188576</td>\n",
       "      <td>10.678936</td>\n",
       "      <td>-71.297781</td>\n",
       "      <td>86.807789</td>\n",
       "      <td>72.701233</td>\n",
       "      <td>-71.373391</td>\n",
       "      <td>0.0</td>\n",
       "      <td>0.0</td>\n",
       "      <td>0.0</td>\n",
       "      <td>0.0</td>\n",
       "      <td>0.0</td>\n",
       "      <td>0.0</td>\n",
       "    </tr>\n",
       "    <tr>\n",
       "      <th>1</th>\n",
       "      <td>1</td>\n",
       "      <td>56.527558</td>\n",
       "      <td>72.266609</td>\n",
       "      <td>-61.935252</td>\n",
       "      <td>39.135978</td>\n",
       "      <td>82.53853</td>\n",
       "      <td>-49.596509</td>\n",
       "      <td>79.223743</td>\n",
       "      <td>43.254091</td>\n",
       "      <td>-69.982489</td>\n",
       "      <td>87.450873</td>\n",
       "      <td>68.400808</td>\n",
       "      <td>-70.703991</td>\n",
       "      <td>61.587452</td>\n",
       "      <td>11.779919</td>\n",
       "      <td>-68.827418</td>\n",
       "      <td>86.807789</td>\n",
       "      <td>72.701233</td>\n",
       "      <td>-71.373391</td>\n",
       "      <td>0.0</td>\n",
       "      <td>0.0</td>\n",
       "      <td>0.0</td>\n",
       "      <td>0.0</td>\n",
       "      <td>0.0</td>\n",
       "      <td>0.0</td>\n",
       "    </tr>\n",
       "  </tbody>\n",
       "</table>\n",
       "</div>"
      ],
      "text/plain": [
       "   Class         X0         Y0         Z0         X1        Y1         Z1  \\\n",
       "0      1  54.263880  71.466776 -64.807709  76.895635  42.46250 -72.780545   \n",
       "1      1  56.527558  72.266609 -61.935252  39.135978  82.53853 -49.596509   \n",
       "\n",
       "          X2         Y2         Z2         X3         Y3         Z3  \\\n",
       "0  36.621229  81.680557 -52.919272  85.232264  67.749220 -73.684130   \n",
       "1  79.223743  43.254091 -69.982489  87.450873  68.400808 -70.703991   \n",
       "\n",
       "          X4         Y4         Z4         X5         Y5         Z5   X6   Y6  \\\n",
       "0  59.188576  10.678936 -71.297781  86.807789  72.701233 -71.373391  0.0  0.0   \n",
       "1  61.587452  11.779919 -68.827418  86.807789  72.701233 -71.373391  0.0  0.0   \n",
       "\n",
       "    Z6   X7   Y7   Z7  \n",
       "0  0.0  0.0  0.0  0.0  \n",
       "1  0.0  0.0  0.0  0.0  "
      ]
     },
     "execution_count": 8,
     "metadata": {},
     "output_type": "execute_result"
    }
   ],
   "source": [
    "dfn.head(2)"
   ]
  },
  {
   "cell_type": "code",
   "execution_count": 9,
   "metadata": {},
   "outputs": [],
   "source": [
    "from sklearn.model_selection import train_test_split\n",
    "from sklearn.metrics import roc_auc_score, roc_curve, confusion_matrix, classification_report, accuracy_score"
   ]
  },
  {
   "cell_type": "code",
   "execution_count": 10,
   "metadata": {},
   "outputs": [],
   "source": [
    "X=dfn.drop('Class',axis=1)\n",
    "y=dfn['Class']"
   ]
  },
  {
   "cell_type": "code",
   "execution_count": 12,
   "metadata": {},
   "outputs": [],
   "source": [
    "X_train, X_test, y_train, y_test = train_test_split(X, y, test_size=0.30,random_state=42)"
   ]
  },
  {
   "cell_type": "markdown",
   "metadata": {},
   "source": [
    "### Building ML Algorithms"
   ]
  },
  {
   "cell_type": "markdown",
   "metadata": {},
   "source": [
    "#### Logisitic Regression"
   ]
  },
  {
   "cell_type": "code",
   "execution_count": 13,
   "metadata": {},
   "outputs": [],
   "source": [
    "import warnings\n",
    "warnings.filterwarnings('ignore')"
   ]
  },
  {
   "cell_type": "code",
   "execution_count": 14,
   "metadata": {},
   "outputs": [],
   "source": [
    "from sklearn.linear_model import LogisticRegression"
   ]
  },
  {
   "cell_type": "code",
   "execution_count": 15,
   "metadata": {},
   "outputs": [],
   "source": [
    "lr=LogisticRegression(fit_intercept=True,solver='liblinear', multi_class='ovr')"
   ]
  },
  {
   "cell_type": "code",
   "execution_count": 16,
   "metadata": {},
   "outputs": [
    {
     "name": "stdout",
     "output_type": "stream",
     "text": [
      "Confusion Matrix - Train:  \n",
      " [[10161     0  1263     0     0]\n",
      " [   19  9152     6    14  1316]\n",
      " [ 1460     0  9853     0     0]\n",
      " [    1     9    21 10301     0]\n",
      " [    1  1752     0     0  9337]]\n",
      "Overall Accuracy - Train:  0.8927669849632313\n",
      "ROC score:  0.9828366141995234\n",
      "Classification Report-                precision    recall  f1-score   support\n",
      "\n",
      "           1       0.87      0.89      0.88     11424\n",
      "           2       0.84      0.87      0.85     10507\n",
      "           3       0.88      0.87      0.88     11313\n",
      "           4       1.00      1.00      1.00     10332\n",
      "           5       0.88      0.84      0.86     11090\n",
      "\n",
      "    accuracy                           0.89     54666\n",
      "   macro avg       0.89      0.89      0.89     54666\n",
      "weighted avg       0.89      0.89      0.89     54666\n",
      "\n",
      "\n",
      "\n",
      "Confusion Matrix - Train:  \n",
      " [[4319    0  522    0    0]\n",
      " [  10 3925    3    3  530]\n",
      " [ 633    0 4398    0    0]\n",
      " [   1    0   11 4430    1]\n",
      " [   0  675    0    2 3966]]\n",
      "Overall Accuracy - Train:  0.8979469887745956\n",
      "ROC score:  0.9838251061536847\n",
      "Classification Report-                precision    recall  f1-score   support\n",
      "\n",
      "           1       0.87      0.89      0.88      4841\n",
      "           2       0.85      0.88      0.87      4471\n",
      "           3       0.89      0.87      0.88      5031\n",
      "           4       1.00      1.00      1.00      4443\n",
      "           5       0.88      0.85      0.87      4643\n",
      "\n",
      "    accuracy                           0.90     23429\n",
      "   macro avg       0.90      0.90      0.90     23429\n",
      "weighted avg       0.90      0.90      0.90     23429\n",
      "\n"
     ]
    }
   ],
   "source": [
    "lr.fit(X_train,y_train)\n",
    "y_train_pred=lr.predict(X_train)\n",
    "y_train_prob=lr.predict_proba(X_train)\n",
    "print(\"Confusion Matrix - Train: \",'\\n',confusion_matrix(y_train,y_train_pred))\n",
    "print(\"Overall Accuracy - Train: \",accuracy_score(y_train,y_train_pred))\n",
    "print('ROC score: ',roc_auc_score(y_train, y_train_prob, multi_class='ovr'))\n",
    "print('Classification Report- ',classification_report(y_train, y_train_pred))\n",
    "\n",
    "y_test_pred=lr.predict(X_test)\n",
    "y_test_prob=lr.predict_proba(X_test)\n",
    "\n",
    "print('\\n')\n",
    "print(\"Confusion Matrix - Train: \",'\\n',confusion_matrix(y_test,y_test_pred))\n",
    "print(\"Overall Accuracy - Train: \",accuracy_score(y_test,y_test_pred))\n",
    "print('ROC score: ',roc_auc_score(y_test, y_test_prob, multi_class='ovr'))\n",
    "print('Classification Report- ',classification_report(y_test, y_test_pred))\n"
   ]
  },
  {
   "cell_type": "markdown",
   "metadata": {},
   "source": [
    "#### Decision Tree"
   ]
  },
  {
   "cell_type": "code",
   "execution_count": 17,
   "metadata": {},
   "outputs": [],
   "source": [
    "from sklearn.tree import DecisionTreeClassifier\n",
    "dt=DecisionTreeClassifier()"
   ]
  },
  {
   "cell_type": "code",
   "execution_count": 18,
   "metadata": {},
   "outputs": [
    {
     "data": {
      "text/plain": [
       "DecisionTreeClassifier(ccp_alpha=0.0, class_weight=None, criterion='gini',\n",
       "                       max_depth=None, max_features=None, max_leaf_nodes=None,\n",
       "                       min_impurity_decrease=0.0, min_impurity_split=None,\n",
       "                       min_samples_leaf=1, min_samples_split=2,\n",
       "                       min_weight_fraction_leaf=0.0, presort='deprecated',\n",
       "                       random_state=None, splitter='best')"
      ]
     },
     "execution_count": 18,
     "metadata": {},
     "output_type": "execute_result"
    }
   ],
   "source": [
    "dt.fit(X,y)"
   ]
  },
  {
   "cell_type": "code",
   "execution_count": 19,
   "metadata": {},
   "outputs": [
    {
     "name": "stdout",
     "output_type": "stream",
     "text": [
      "overall accuracy -Train:  1.0\n",
      "confusion matrix:\n",
      " [[11424     0     0     0     0]\n",
      " [    0 10507     0     0     0]\n",
      " [    0     0 11313     0     0]\n",
      " [    0     0     0 10332     0]\n",
      " [    0     0     0     0 11090]]\n",
      "AUC-train: 1.0\n",
      "Classification Report-                precision    recall  f1-score   support\n",
      "\n",
      "           1       0.87      0.89      0.88     11424\n",
      "           2       0.84      0.87      0.85     10507\n",
      "           3       0.88      0.87      0.88     11313\n",
      "           4       1.00      1.00      1.00     10332\n",
      "           5       0.88      0.84      0.86     11090\n",
      "\n",
      "    accuracy                           0.89     54666\n",
      "   macro avg       0.89      0.89      0.89     54666\n",
      "weighted avg       0.89      0.89      0.89     54666\n",
      "\n",
      "overall accuracy -Train:  0.977805284049682\n",
      "confusion matrix:\n",
      " [[4794    0   47    0    0]\n",
      " [   2 4249    0    0  220]\n",
      " [  58    0 4973    0    0]\n",
      " [   0    0    3 4440    0]\n",
      " [   0  189    0    1 4453]]\n",
      "AUC-train: 0.9859833879724242\n",
      "Classification Report-                precision    recall  f1-score   support\n",
      "\n",
      "           1       0.87      0.89      0.88      4841\n",
      "           2       0.85      0.88      0.87      4471\n",
      "           3       0.89      0.87      0.88      5031\n",
      "           4       1.00      1.00      1.00      4443\n",
      "           5       0.88      0.85      0.87      4643\n",
      "\n",
      "    accuracy                           0.90     23429\n",
      "   macro avg       0.90      0.90      0.90     23429\n",
      "weighted avg       0.90      0.90      0.90     23429\n",
      "\n"
     ]
    }
   ],
   "source": [
    "mod=dt.fit(X_train,y_train)\n",
    "\n",
    "train_pred=mod.predict(X_train)\n",
    "train_prob=mod.predict_proba(X_train)\n",
    "\n",
    "print('overall accuracy -Train: ',accuracy_score(y_train,train_pred))\n",
    "print('confusion matrix:\\n',confusion_matrix (y_train,train_pred))\n",
    "print('AUC-train:',roc_auc_score(y_train,train_prob, multi_class='ovr'))\n",
    "print('Classification Report- ',classification_report(y_train, y_train_pred))\n",
    "\n",
    "test_pred=mod.predict(X_test)\n",
    "test_prob=mod.predict_proba(X_test)\n",
    "print('overall accuracy -Train: ',accuracy_score(y_test,test_pred))\n",
    "print('confusion matrix:\\n',confusion_matrix (y_test,test_pred))\n",
    "print('AUC-train:',roc_auc_score(y_test,test_prob, multi_class='ovr'))\n",
    "print('Classification Report- ',classification_report(y_test, y_test_pred))"
   ]
  },
  {
   "cell_type": "markdown",
   "metadata": {},
   "source": [
    "#### Random Forest - Super Star"
   ]
  },
  {
   "cell_type": "code",
   "execution_count": 20,
   "metadata": {},
   "outputs": [
    {
     "name": "stdout",
     "output_type": "stream",
     "text": [
      "Confusion Matrix - Train: \n",
      " [[11424     0     0     0     0]\n",
      " [    0 10507     0     0     0]\n",
      " [    0     0 11313     0     0]\n",
      " [    0     0     0 10332     0]\n",
      " [    0     0     0     0 11090]]\n",
      "\n",
      "\n",
      "Overall Accuracy - Train:  1.0\n",
      "ROC score:  1.0\n",
      "Classification Report-                precision    recall  f1-score   support\n",
      "\n",
      "           1       1.00      1.00      1.00     11424\n",
      "           2       1.00      1.00      1.00     10507\n",
      "           3       1.00      1.00      1.00     11313\n",
      "           4       1.00      1.00      1.00     10332\n",
      "           5       1.00      1.00      1.00     11090\n",
      "\n",
      "    accuracy                           1.00     54666\n",
      "   macro avg       1.00      1.00      1.00     54666\n",
      "weighted avg       1.00      1.00      1.00     54666\n",
      "\n",
      "\n",
      "\n",
      "Confusion Matrix - Test: \n",
      " [[4821    0   20    0    0]\n",
      " [   0 4399    0    0   72]\n",
      " [  13    0 5018    0    0]\n",
      " [   0    0    0 4443    0]\n",
      " [   0   54    0    0 4589]]\n",
      "\n",
      "\n",
      "Overall Accuracy - Test:  0.9932135387767297\n",
      "ROC score:  0.9999161418593465\n",
      "Classification Report-                precision    recall  f1-score   support\n",
      "\n",
      "           1       1.00      1.00      1.00      4841\n",
      "           2       0.99      0.98      0.99      4471\n",
      "           3       1.00      1.00      1.00      5031\n",
      "           4       1.00      1.00      1.00      4443\n",
      "           5       0.98      0.99      0.99      4643\n",
      "\n",
      "    accuracy                           0.99     23429\n",
      "   macro avg       0.99      0.99      0.99     23429\n",
      "weighted avg       0.99      0.99      0.99     23429\n",
      "\n"
     ]
    }
   ],
   "source": [
    "from sklearn.ensemble import RandomForestClassifier\n",
    "\n",
    "rfc = RandomForestClassifier(n_estimators = 200, n_jobs=-1)\n",
    "\n",
    "rfc.fit(X_train, y_train)\n",
    "\n",
    "y_train_pred = rfc.predict(X_train)\n",
    "y_train_prob = rfc.predict_proba(X_train)\n",
    "\n",
    "print('Confusion Matrix - Train: \\n', confusion_matrix(y_train, y_train_pred))\n",
    "print('\\n')\n",
    "print('Overall Accuracy - Train: ', accuracy_score(y_train, y_train_pred))\n",
    "print('ROC score: ',roc_auc_score(y_train, y_train_prob, multi_class='ovr'))\n",
    "print('Classification Report- ',classification_report(y_train, y_train_pred))\n",
    "\n",
    "y_test_pred = rfc.predict(X_test)\n",
    "y_test_prob = rfc.predict_proba(X_test)\n",
    "\n",
    "print('\\n')\n",
    "print('Confusion Matrix - Test: \\n', confusion_matrix(y_test, y_test_pred))\n",
    "print('\\n')\n",
    "print('Overall Accuracy - Test: ', accuracy_score(y_test, y_test_pred))\n",
    "print('ROC score: ',roc_auc_score(y_test, y_test_prob, multi_class='ovr'))\n",
    "print('Classification Report- ',classification_report(y_test, y_test_pred))"
   ]
  },
  {
   "cell_type": "markdown",
   "metadata": {},
   "source": [
    "#### LightGBM"
   ]
  },
  {
   "cell_type": "code",
   "execution_count": 21,
   "metadata": {},
   "outputs": [],
   "source": [
    "import lightgbm as lgb"
   ]
  },
  {
   "cell_type": "code",
   "execution_count": 22,
   "metadata": {},
   "outputs": [
    {
     "name": "stdout",
     "output_type": "stream",
     "text": [
      "Confusion Matrix:  \n",
      " [[11424     0     0     0     0]\n",
      " [    0 10505     0     0     2]\n",
      " [    0     0 11313     0     0]\n",
      " [    0     0     0 10332     0]\n",
      " [    0     1     0     0 11089]]\n",
      "Accuracy of Train:  0.9999451212819669\n",
      "AUC of Train:  0.9999999911370212\n",
      "Classification Report-                precision    recall  f1-score   support\n",
      "\n",
      "           1       1.00      1.00      1.00     11424\n",
      "           2       1.00      1.00      1.00     10507\n",
      "           3       1.00      1.00      1.00     11313\n",
      "           4       1.00      1.00      1.00     10332\n",
      "           5       1.00      1.00      1.00     11090\n",
      "\n",
      "    accuracy                           1.00     54666\n",
      "   macro avg       1.00      1.00      1.00     54666\n",
      "weighted avg       1.00      1.00      1.00     54666\n",
      "\n",
      "\n",
      "\n",
      "\n",
      "Confusion Matrix:  \n",
      " [[4826    0   15    0    0]\n",
      " [   0 4441    0    0   30]\n",
      " [  16    0 5015    0    0]\n",
      " [   0    0    0 4443    0]\n",
      " [   0    7    0    0 4636]]\n",
      "Accuracy of Test:  0.9970976140680353\n",
      "AUC of Test:  0.9999827885534115\n",
      "Classification Report-                precision    recall  f1-score   support\n",
      "\n",
      "           1       1.00      1.00      1.00     11424\n",
      "           2       1.00      1.00      1.00     10507\n",
      "           3       1.00      1.00      1.00     11313\n",
      "           4       1.00      1.00      1.00     10332\n",
      "           5       1.00      1.00      1.00     11090\n",
      "\n",
      "    accuracy                           1.00     54666\n",
      "   macro avg       1.00      1.00      1.00     54666\n",
      "weighted avg       1.00      1.00      1.00     54666\n",
      "\n"
     ]
    }
   ],
   "source": [
    "lgbmc = lgb.LGBMClassifier()\n",
    "\n",
    "lgbmc.fit(X_train, y_train)\n",
    "\n",
    "\n",
    "y_train_pred = lgbmc.predict(X_train)\n",
    "y_train_prob = lgbmc.predict_proba(X_train)\n",
    "\n",
    "print('Confusion Matrix: ', '\\n', confusion_matrix(y_train, y_train_pred))\n",
    "print('Accuracy of Train: ',  accuracy_score(y_train, y_train_pred))\n",
    "print('AUC of Train: ', roc_auc_score(y_train, y_train_prob,multi_class='ovr'))\n",
    "print('Classification Report- ',classification_report(y_train, y_train_pred))\n",
    "\n",
    "y_test_pred = lgbmc.predict(X_test)\n",
    "y_test_prob = lgbmc.predict_proba(X_test)\n",
    "\n",
    "print('\\n'*2)\n",
    "print('Confusion Matrix: ', '\\n', confusion_matrix(y_test, y_test_pred))\n",
    "\n",
    "print('Accuracy of Test: ',  accuracy_score(y_test, y_test_pred))\n",
    "print('AUC of Test: ', roc_auc_score(y_test, y_test_prob,multi_class='ovr'))\n",
    "print('Classification Report- ',classification_report(y_train, y_train_pred))"
   ]
  },
  {
   "cell_type": "markdown",
   "metadata": {},
   "source": [
    "#### K Fold Cross Validation"
   ]
  },
  {
   "cell_type": "code",
   "execution_count": 23,
   "metadata": {},
   "outputs": [],
   "source": [
    "from sklearn.model_selection import cross_val_score"
   ]
  },
  {
   "cell_type": "code",
   "execution_count": 24,
   "metadata": {},
   "outputs": [],
   "source": [
    "score= cross_val_score(lgbmc,X,y,cv=10)"
   ]
  },
  {
   "cell_type": "code",
   "execution_count": 25,
   "metadata": {},
   "outputs": [
    {
     "data": {
      "text/plain": [
       "array([0.94507042, 0.94353393, 0.83572343, 0.97797695, 0.97234315,\n",
       "       0.99257267, 0.95697272, 0.99654245, 0.99513382, 0.92431809])"
      ]
     },
     "execution_count": 25,
     "metadata": {},
     "output_type": "execute_result"
    }
   ],
   "source": [
    "score"
   ]
  },
  {
   "cell_type": "code",
   "execution_count": 26,
   "metadata": {},
   "outputs": [
    {
     "data": {
      "text/plain": [
       "0.9540187649137236"
      ]
     },
     "execution_count": 26,
     "metadata": {},
     "output_type": "execute_result"
    }
   ],
   "source": [
    "score.mean()"
   ]
  },
  {
   "cell_type": "markdown",
   "metadata": {},
   "source": [
    "#### Stratified K Fold Cross Validation"
   ]
  },
  {
   "cell_type": "code",
   "execution_count": 27,
   "metadata": {},
   "outputs": [
    {
     "name": "stdout",
     "output_type": "stream",
     "text": [
      "Train: [ 1627  1628  1629 ... 78092 78093 78094] Validation: [    0     1     2 ... 63932 63933 63934]\n",
      "Train: [    0     1     2 ... 78092 78093 78094] Validation: [ 1627  1628  1629 ... 65505 65506 65507]\n",
      "Train: [    0     1     2 ... 78092 78093 78094] Validation: [ 3254  3255  3256 ... 67079 67080 67081]\n",
      "Train: [    0     1     2 ... 78092 78093 78094] Validation: [ 4881  4882  4883 ... 68653 68654 68655]\n",
      "Train: [    0     1     2 ... 78092 78093 78094] Validation: [ 6508  6509  6510 ... 70227 70228 70229]\n",
      "Train: [    0     1     2 ... 78092 78093 78094] Validation: [ 8135  8136  8137 ... 71800 71801 71802]\n",
      "Train: [    0     1     2 ... 78092 78093 78094] Validation: [ 9761  9762  9763 ... 73373 73374 73375]\n",
      "Train: [    0     1     2 ... 78092 78093 78094] Validation: [11387 11388 11389 ... 74946 74947 74948]\n",
      "Train: [    0     1     2 ... 78092 78093 78094] Validation: [13013 13014 13015 ... 76519 76520 76521]\n",
      "Train: [    0     1     2 ... 76519 76520 76521] Validation: [14639 14640 14641 ... 78092 78093 78094]\n",
      "[0.9450704225352112, 0.9435339308578745, 0.8357234314980794, 0.97797695262484, 0.9723431498079386, 0.9925726725573056, 0.9569727237802536, 0.996542451018056, 0.9951338199513382, 0.9243180945063388]\n"
     ]
    }
   ],
   "source": [
    "from sklearn.model_selection import StratifiedKFold\n",
    "\n",
    "accuracy=[]\n",
    "\n",
    "skf=StratifiedKFold(n_splits=10, random_state=None)\n",
    "skf.get_n_splits(X,y)\n",
    "\n",
    "for train_index, test_index in skf.split(X,y):\n",
    "    print(\"Train:\", train_index, \"Validation:\", test_index)\n",
    "    X2_train,X2_test=X.iloc[train_index], X.iloc[test_index]\n",
    "    y2_train,y2_test=y.iloc[train_index], y.iloc[test_index]\n",
    "    \n",
    "    lgbmc.fit(X2_train,y2_train)\n",
    "    prediction=lgbmc.predict(X2_test)\n",
    "    score=accuracy_score(prediction, y2_test)\n",
    "    accuracy.append(score)\n",
    "print(accuracy)"
   ]
  },
  {
   "cell_type": "markdown",
   "metadata": {},
   "source": [
    "#### Hyper Parameter tuning"
   ]
  },
  {
   "cell_type": "markdown",
   "metadata": {},
   "source": [
    "#### Grid Search"
   ]
  },
  {
   "cell_type": "code",
   "execution_count": 28,
   "metadata": {},
   "outputs": [
    {
     "data": {
      "text/plain": [
       "dict_keys(['explained_variance', 'r2', 'max_error', 'neg_median_absolute_error', 'neg_mean_absolute_error', 'neg_mean_squared_error', 'neg_mean_squared_log_error', 'neg_root_mean_squared_error', 'neg_mean_poisson_deviance', 'neg_mean_gamma_deviance', 'accuracy', 'roc_auc', 'roc_auc_ovr', 'roc_auc_ovo', 'roc_auc_ovr_weighted', 'roc_auc_ovo_weighted', 'balanced_accuracy', 'average_precision', 'neg_log_loss', 'neg_brier_score', 'adjusted_rand_score', 'homogeneity_score', 'completeness_score', 'v_measure_score', 'mutual_info_score', 'adjusted_mutual_info_score', 'normalized_mutual_info_score', 'fowlkes_mallows_score', 'precision', 'precision_macro', 'precision_micro', 'precision_samples', 'precision_weighted', 'recall', 'recall_macro', 'recall_micro', 'recall_samples', 'recall_weighted', 'f1', 'f1_macro', 'f1_micro', 'f1_samples', 'f1_weighted', 'jaccard', 'jaccard_macro', 'jaccard_micro', 'jaccard_samples', 'jaccard_weighted'])"
      ]
     },
     "execution_count": 28,
     "metadata": {},
     "output_type": "execute_result"
    }
   ],
   "source": [
    "import sklearn\n",
    "sklearn.metrics.SCORERS.keys()"
   ]
  },
  {
   "cell_type": "code",
   "execution_count": 32,
   "metadata": {},
   "outputs": [
    {
     "data": {
      "text/plain": [
       "GridSearchCV(cv=3, error_score=nan,\n",
       "             estimator=DecisionTreeClassifier(ccp_alpha=0.0, class_weight=None,\n",
       "                                              criterion='gini', max_depth=None,\n",
       "                                              max_features=None,\n",
       "                                              max_leaf_nodes=None,\n",
       "                                              min_impurity_decrease=0.0,\n",
       "                                              min_impurity_split=None,\n",
       "                                              min_samples_leaf=1,\n",
       "                                              min_samples_split=2,\n",
       "                                              min_weight_fraction_leaf=0.0,\n",
       "                                              presort='deprecated',\n",
       "                                              random_state=None,\n",
       "                                              splitter='best'),\n",
       "             iid='deprecated', n_jobs=-1,\n",
       "             param_grid={'criterion': ['gini', 'entropy'],\n",
       "                         'max_depth': [5, 6, 7, 8, 9, 10],\n",
       "                         'min_samples_leaf': [-2, -1, 0, 1, 2],\n",
       "                         'min_samples_split': [8, 9, 10, 11, 12, 13, 14, 15,\n",
       "                                               16]},\n",
       "             pre_dispatch='2*n_jobs', refit=True, return_train_score=False,\n",
       "             scoring='r2', verbose=0)"
      ]
     },
     "execution_count": 32,
     "metadata": {},
     "output_type": "execute_result"
    }
   ],
   "source": [
    "from sklearn.model_selection import GridSearchCV\n",
    "\n",
    "dtc = DecisionTreeClassifier()\n",
    "\n",
    "params = { 'max_depth' : [5,6,7,8,9,10] , \n",
    "           'min_samples_leaf' : [-2,-1,0,1,2] ,\n",
    "           'min_samples_split': [8,9,10,11,12,13,14,15,16] ,\n",
    "           'criterion' : ['gini' , 'entropy']\n",
    "         }\n",
    "gsearch=GridSearchCV(dtc,param_grid=params,cv=3,scoring='r2',n_jobs=-1)\n",
    "gsearch.fit(X,y)"
   ]
  },
  {
   "cell_type": "code",
   "execution_count": 33,
   "metadata": {},
   "outputs": [
    {
     "data": {
      "text/plain": [
       "{'criterion': 'gini',\n",
       " 'max_depth': 10,\n",
       " 'min_samples_leaf': 1,\n",
       " 'min_samples_split': 11}"
      ]
     },
     "execution_count": 33,
     "metadata": {},
     "output_type": "execute_result"
    }
   ],
   "source": [
    "gsearch.best_params_"
   ]
  },
  {
   "cell_type": "code",
   "execution_count": 41,
   "metadata": {},
   "outputs": [
    {
     "name": "stdout",
     "output_type": "stream",
     "text": [
      "overall accuracy -Train:  0.9647495701167087\n",
      "confusion matrix:\n",
      " [[11239     0   185     0     0]\n",
      " [    7 10015     0     0   485]\n",
      " [  163     0 11150     0     0]\n",
      " [   42     0     8 10282     0]\n",
      " [    0  1037     0     0 10053]]\n",
      "AUC-train: 0.9960927448578865\n",
      "Classification Report-                precision    recall  f1-score   support\n",
      "\n",
      "           1       1.00      1.00      1.00     11424\n",
      "           2       1.00      1.00      1.00     10507\n",
      "           3       1.00      1.00      1.00     11313\n",
      "           4       1.00      1.00      1.00     10332\n",
      "           5       1.00      1.00      1.00     11090\n",
      "\n",
      "    accuracy                           1.00     54666\n",
      "   macro avg       1.00      1.00      1.00     54666\n",
      "weighted avg       1.00      1.00      1.00     54666\n",
      "\n",
      "overall accuracy -Train:  0.9581714968628623\n",
      "confusion matrix:\n",
      " [[4745    0   96    0    0]\n",
      " [   1 4175    2    0  293]\n",
      " [  90    0 4941    0    0]\n",
      " [  18    0    3 4422    0]\n",
      " [   0  476    0    1 4166]]\n",
      "AUC-train: 0.9922097372379465\n",
      "Classification Report-                precision    recall  f1-score   support\n",
      "\n",
      "           1       1.00      1.00      1.00      4841\n",
      "           2       1.00      0.99      1.00      4471\n",
      "           3       1.00      1.00      1.00      5031\n",
      "           4       1.00      1.00      1.00      4443\n",
      "           5       0.99      1.00      1.00      4643\n",
      "\n",
      "    accuracy                           1.00     23429\n",
      "   macro avg       1.00      1.00      1.00     23429\n",
      "weighted avg       1.00      1.00      1.00     23429\n",
      "\n"
     ]
    }
   ],
   "source": [
    "dtc=DecisionTreeClassifier(**gsearch.best_params_)\n",
    "dtc.fit(X_train,y_train)\n",
    "\n",
    "train_pred=dtc.predict(X_train)\n",
    "train_prob=dtc.predict_proba(X_train)\n",
    "\n",
    "print('overall accuracy -Train: ',accuracy_score(y_train,train_pred))\n",
    "print('confusion matrix:\\n',confusion_matrix (y_train,train_pred))\n",
    "print('AUC-train:',roc_auc_score(y_train,train_prob, multi_class='ovr'))\n",
    "print('Classification Report- ',classification_report(y_train, y_train_pred))\n",
    "\n",
    "test_pred=dtc.predict(X_test)\n",
    "test_prob=dtc.predict_proba(X_test)\n",
    "print('overall accuracy -Train: ',accuracy_score(y_test,test_pred))\n",
    "print('confusion matrix:\\n',confusion_matrix (y_test,test_pred))\n",
    "print('AUC-train:',roc_auc_score(y_test,test_prob, multi_class='ovr'))\n",
    "print('Classification Report- ',classification_report(y_test, y_test_pred))"
   ]
  },
  {
   "cell_type": "markdown",
   "metadata": {},
   "source": [
    "#### Randomized Search CV"
   ]
  },
  {
   "cell_type": "code",
   "execution_count": 37,
   "metadata": {},
   "outputs": [
    {
     "data": {
      "text/plain": [
       "RandomizedSearchCV(cv=3, error_score=nan,\n",
       "                   estimator=DecisionTreeClassifier(ccp_alpha=0.0,\n",
       "                                                    class_weight=None,\n",
       "                                                    criterion='gini',\n",
       "                                                    max_depth=10,\n",
       "                                                    max_features=None,\n",
       "                                                    max_leaf_nodes=None,\n",
       "                                                    min_impurity_decrease=0.0,\n",
       "                                                    min_impurity_split=None,\n",
       "                                                    min_samples_leaf=1,\n",
       "                                                    min_samples_split=11,\n",
       "                                                    min_weight_fraction_leaf=0.0,\n",
       "                                                    presort='deprecated',\n",
       "                                                    random_state=None,\n",
       "                                                    splitter='best'),\n",
       "                   ii...\n",
       "                                        'max_depth': <scipy.stats._distn_infrastructure.rv_frozen object at 0x00000286CFDBB048>,\n",
       "                                        'min_samples_leaf': <scipy.stats._distn_infrastructure.rv_frozen object at 0x00000286CFDBBB38>,\n",
       "                                        'min_samples_split': <scipy.stats._distn_infrastructure.rv_frozen object at 0x00000286CFD3A128>},\n",
       "                   pre_dispatch='2*n_jobs', random_state=None, refit=True,\n",
       "                   return_train_score=False, scoring='r2', verbose=0)"
      ]
     },
     "execution_count": 37,
     "metadata": {},
     "output_type": "execute_result"
    }
   ],
   "source": [
    "from sklearn.model_selection import RandomizedSearchCV\n",
    "from scipy.stats import randint as sp_randint\n",
    "\n",
    "params={\n",
    "    'max_depth':sp_randint(2,20),\n",
    "    'min_samples_leaf':sp_randint(-5,5),\n",
    "    'min_samples_split':sp_randint(-5,5),\n",
    "    'criterion':['gini','entropy']\n",
    "}\n",
    "rsearch= RandomizedSearchCV(dtc,param_distributions=params,n_iter=200,cv=3,scoring='r2',n_jobs=-1)\n",
    "rsearch.fit(X,y)"
   ]
  },
  {
   "cell_type": "code",
   "execution_count": 38,
   "metadata": {},
   "outputs": [
    {
     "data": {
      "text/plain": [
       "{'criterion': 'entropy',\n",
       " 'max_depth': 13,\n",
       " 'min_samples_leaf': 3,\n",
       " 'min_samples_split': 3}"
      ]
     },
     "execution_count": 38,
     "metadata": {},
     "output_type": "execute_result"
    }
   ],
   "source": [
    "rsearch.best_params_"
   ]
  },
  {
   "cell_type": "code",
   "execution_count": 40,
   "metadata": {},
   "outputs": [
    {
     "name": "stdout",
     "output_type": "stream",
     "text": [
      "overall accuracy -Train:  0.9865730069878901\n",
      "confusion matrix:\n",
      " [[11415     0     9     0     0]\n",
      " [    0 10135     0     0   372]\n",
      " [  176     0 11137     0     0]\n",
      " [    0     0     0 10332     0]\n",
      " [    0   177     0     0 10913]]\n",
      "AUC-train: 0.9990356212956607\n",
      "Classification Report-                precision    recall  f1-score   support\n",
      "\n",
      "           1       1.00      1.00      1.00     11424\n",
      "           2       1.00      1.00      1.00     10507\n",
      "           3       1.00      1.00      1.00     11313\n",
      "           4       1.00      1.00      1.00     10332\n",
      "           5       1.00      1.00      1.00     11090\n",
      "\n",
      "    accuracy                           1.00     54666\n",
      "   macro avg       1.00      1.00      1.00     54666\n",
      "weighted avg       1.00      1.00      1.00     54666\n",
      "\n",
      "overall accuracy -Train:  0.9739212087583764\n",
      "confusion matrix:\n",
      " [[4823    0   18    0    0]\n",
      " [   0 4156    0    0  315]\n",
      " [  84    0 4947    0    0]\n",
      " [   0    0    1 4442    0]\n",
      " [   0  192    0    1 4450]]\n",
      "AUC-train: 0.9920439050347187\n",
      "Classification Report-                precision    recall  f1-score   support\n",
      "\n",
      "           1       1.00      1.00      1.00      4841\n",
      "           2       1.00      0.99      1.00      4471\n",
      "           3       1.00      1.00      1.00      5031\n",
      "           4       1.00      1.00      1.00      4443\n",
      "           5       0.99      1.00      1.00      4643\n",
      "\n",
      "    accuracy                           1.00     23429\n",
      "   macro avg       1.00      1.00      1.00     23429\n",
      "weighted avg       1.00      1.00      1.00     23429\n",
      "\n"
     ]
    }
   ],
   "source": [
    "dtc=DecisionTreeClassifier(**rsearch.best_params_)\n",
    "dtc.fit(X_train,y_train)\n",
    "\n",
    "train_pred=dtc.predict(X_train)\n",
    "train_prob=dtc.predict_proba(X_train)\n",
    "\n",
    "print('overall accuracy -Train: ',accuracy_score(y_train,train_pred))\n",
    "print('confusion matrix:\\n',confusion_matrix (y_train,train_pred))\n",
    "print('AUC-train:',roc_auc_score(y_train,train_prob, multi_class='ovr'))\n",
    "print('Classification Report- ',classification_report(y_train, y_train_pred))\n",
    "\n",
    "test_pred=dtc.predict(X_test)\n",
    "test_prob=dtc.predict_proba(X_test)\n",
    "print('overall accuracy -Train: ',accuracy_score(y_test,test_pred))\n",
    "print('confusion matrix:\\n',confusion_matrix (y_test,test_pred))\n",
    "print('AUC-train:',roc_auc_score(y_test,test_prob, multi_class='ovr'))\n",
    "print('Classification Report- ',classification_report(y_test, y_test_pred))"
   ]
  }
 ],
 "metadata": {
  "kernelspec": {
   "display_name": "Python 3",
   "language": "python",
   "name": "python3"
  },
  "language_info": {
   "codemirror_mode": {
    "name": "ipython",
    "version": 3
   },
   "file_extension": ".py",
   "mimetype": "text/x-python",
   "name": "python",
   "nbconvert_exporter": "python",
   "pygments_lexer": "ipython3",
   "version": "3.7.3"
  }
 },
 "nbformat": 4,
 "nbformat_minor": 2
}
